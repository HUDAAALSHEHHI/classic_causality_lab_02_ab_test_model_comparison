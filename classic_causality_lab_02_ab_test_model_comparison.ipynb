{
  "nbformat": 4,
  "nbformat_minor": 0,
  "metadata": {
    "colab": {
      "provenance": [],
      "gpuType": "A100"
    },
    "kernelspec": {
      "name": "python3",
      "display_name": "Python 3"
    },
    "language_info": {
      "name": "python"
    },
    "accelerator": "GPU"
  },
  "cells": [
    {
      "cell_type": "code",
      "execution_count": 1,
      "metadata": {
        "colab": {
          "base_uri": "https://localhost:8080/"
        },
        "id": "mgs0gy-Qq8Kj",
        "outputId": "80ea07a9-b5e8-4d2a-e81e-00b740538272"
      },
      "outputs": [
        {
          "output_type": "stream",
          "name": "stdout",
          "text": [
            "Data prepared for A/B testing.\n"
          ]
        }
      ],
      "source": [
        "!pip install -q scikit-learn numpy pandas matplotlib\n",
        "\n",
        "import numpy as np\n",
        "import pandas as pd\n",
        "from sklearn.datasets import make_classification\n",
        "from sklearn.model_selection import train_test_split\n",
        "\n",
        "# Create synthetic dataset\n",
        "X, y = make_classification(n_samples=1000, n_features=10, n_informative=6, n_redundant=2, random_state=42)\n",
        "X_train, X_test, y_train, y_test = train_test_split(X, y, test_size=0.5, random_state=42)\n",
        "\n",
        "print(\"Data prepared for A/B testing.\")\n"
      ]
    },
    {
      "cell_type": "code",
      "source": [
        "from sklearn.linear_model import LogisticRegression\n",
        "from sklearn.metrics import accuracy_score\n",
        "\n",
        "model_A = LogisticRegression(max_iter=1000, random_state=42)\n",
        "model_A.fit(X_train, y_train)\n",
        "y_pred_A = model_A.predict(X_test)\n",
        "acc_A = accuracy_score(y_test, y_pred_A)\n",
        "print(\"Model A Accuracy:\", acc_A)\n"
      ],
      "metadata": {
        "colab": {
          "base_uri": "https://localhost:8080/"
        },
        "id": "GzE8APbwvJrH",
        "outputId": "15782271-ec6b-43c1-eb83-9b4f374d0cd6"
      },
      "execution_count": 2,
      "outputs": [
        {
          "output_type": "stream",
          "name": "stdout",
          "text": [
            "Model A Accuracy: 0.824\n"
          ]
        }
      ]
    },
    {
      "cell_type": "code",
      "source": [
        "from sklearn.ensemble import RandomForestClassifier\n",
        "\n",
        "model_B = RandomForestClassifier(n_estimators=100, random_state=42)\n",
        "model_B.fit(X_train, y_train)\n",
        "y_pred_B = model_B.predict(X_test)\n",
        "acc_B = accuracy_score(y_test, y_pred_B)\n",
        "print(\"Model B Accuracy:\", acc_B)\n"
      ],
      "metadata": {
        "colab": {
          "base_uri": "https://localhost:8080/"
        },
        "id": "JznuXNsFvQRe",
        "outputId": "9a0e7787-b5f7-439b-b323-a3dd55b46bf5"
      },
      "execution_count": 3,
      "outputs": [
        {
          "output_type": "stream",
          "name": "stdout",
          "text": [
            "Model B Accuracy: 0.882\n"
          ]
        }
      ]
    },
    {
      "cell_type": "code",
      "source": [
        "from scipy import stats\n",
        "\n",
        "t_stat, p_value = stats.ttest_ind(y_pred_A, y_pred_B)\n",
        "print(\"t-statistic:\", t_stat)\n",
        "print(\"p-value:\", p_value)\n"
      ],
      "metadata": {
        "colab": {
          "base_uri": "https://localhost:8080/"
        },
        "id": "5r4OIzp3vT9a",
        "outputId": "7b7f552f-5f40-4f3a-e0c9-867ba444be44"
      },
      "execution_count": 4,
      "outputs": [
        {
          "output_type": "stream",
          "name": "stdout",
          "text": [
            "t-statistic: 0.5698292481002154\n",
            "p-value: 0.568921758668725\n"
          ]
        }
      ]
    },
    {
      "cell_type": "code",
      "source": [],
      "metadata": {
        "id": "dc5YC_f-vWYr"
      },
      "execution_count": null,
      "outputs": []
    }
  ]
}